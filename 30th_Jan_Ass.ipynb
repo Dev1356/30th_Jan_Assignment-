{
 "cells": [
  {
   "cell_type": "markdown",
   "id": "37636ca9-0496-4db8-8c35-e2d4b8509223",
   "metadata": {},
   "source": [
    "# Q1"
   ]
  },
  {
   "cell_type": "code",
   "execution_count": 4,
   "id": "550459e7-028e-4b80-9ffe-573531bab6b0",
   "metadata": {},
   "outputs": [],
   "source": [
    "def Grade_Predictor(X):\n",
    "    if 90< X <=100 :\n",
    "        print(\"your Grade is A\")\n",
    "    \n",
    "    elif 80< X <=90:\n",
    "        Print(\"your Grade is B\")\n",
    "        \n",
    "    elif 60< X <=80:\n",
    "        Print(\"your Grade is C\")\n",
    "    \n",
    "    elif X>100:\n",
    "        print(\"Your input is wrong\") \n",
    "    \n",
    "    else:\n",
    "        print(\"your Grade is D\")"
   ]
  },
  {
   "cell_type": "code",
   "execution_count": 6,
   "id": "3e63424a-ffdf-419d-b287-94c2c102b941",
   "metadata": {},
   "outputs": [
    {
     "name": "stdout",
     "output_type": "stream",
     "text": [
      "your Grade is D\n"
     ]
    }
   ],
   "source": [
    "Grade_Predictor(56)"
   ]
  },
  {
   "cell_type": "markdown",
   "id": "ddcda693-f4a9-428a-9974-ac9e1c92dd12",
   "metadata": {},
   "source": [
    "# Q.2"
   ]
  },
  {
   "cell_type": "code",
   "execution_count": 19,
   "id": "b68554bf-ed52-42b9-a18b-acf763948e07",
   "metadata": {},
   "outputs": [],
   "source": [
    "def Tax_Predictor(X):\n",
    "    \n",
    "    if X>100000:\n",
    "        print(\"The tax is Rs.\",X*15/100)\n",
    "        \n",
    "    elif 50000 < X <=100000:\n",
    "        print(\"The tax is Rs.\",X*10/100)\n",
    "        \n",
    "    if X < 50000:\n",
    "        print(\"The tax is Rs.\",X*5/100)    "
   ]
  },
  {
   "cell_type": "code",
   "execution_count": 20,
   "id": "c01a75ae-4c27-491f-868a-d617d7dad73e",
   "metadata": {},
   "outputs": [
    {
     "name": "stdout",
     "output_type": "stream",
     "text": [
      "The tax is Rs. 25.0\n"
     ]
    }
   ],
   "source": [
    "Tax_Predictor(500)"
   ]
  },
  {
   "cell_type": "code",
   "execution_count": null,
   "id": "abcc29af-1a45-428e-8b82-3475c8a3114c",
   "metadata": {},
   "outputs": [],
   "source": []
  },
  {
   "cell_type": "markdown",
   "id": "360fe3b2-b2ca-4ff5-ab1a-15c6cc977a27",
   "metadata": {},
   "source": [
    "# Q3"
   ]
  },
  {
   "cell_type": "code",
   "execution_count": 55,
   "id": "04438b71-8d1c-4257-904b-c1a2213b28db",
   "metadata": {},
   "outputs": [
    {
     "name": "stdin",
     "output_type": "stream",
     "text": [
      "Enter a city (Delhi, Agra, Jaipur):  Delhi\n"
     ]
    },
    {
     "name": "stdout",
     "output_type": "stream",
     "text": [
      "Monuments in Delhi:\n",
      "Red Fort\n"
     ]
    }
   ],
   "source": [
    "# Dictionary mapping cities to their monuments\n",
    "monuments = {\n",
    "    'Delhi': ['Red Fort'],\n",
    "    'Agra': ['Taj Mahal'],\n",
    "    'Jaipur': ['Jal Mahal']\n",
    "}\n",
    "\n",
    "# Accept city input from the user\n",
    "city = input(\"Enter a city (Delhi, Agra, Jaipur): \").strip()\n",
    "\n",
    "# Check if the entered city exists in the dictionary\n",
    "if city in monuments:\n",
    "    print(f\"Monuments in {city}:\")\n",
    "    for monument in monuments[city]:\n",
    "        print(monument)\n",
    "else:\n",
    "    print(\"Monuments information not available for this city.\")\n"
   ]
  },
  {
   "cell_type": "markdown",
   "id": "30fd9c67-b4ad-4b11-826d-32a788c5f544",
   "metadata": {},
   "source": [
    "# Q.4"
   ]
  },
  {
   "cell_type": "code",
   "execution_count": 59,
   "id": "feca3dad-f37b-4e86-8dce-0b928a08a321",
   "metadata": {},
   "outputs": [],
   "source": [
    "def function(x):\n",
    "    count=0\n",
    "    while x >10 :\n",
    "        x/=3\n",
    "        count += 1\n",
    "    return count"
   ]
  },
  {
   "cell_type": "code",
   "execution_count": 60,
   "id": "8f94557a-777d-4cc9-bb42-f78a4459b1a2",
   "metadata": {},
   "outputs": [
    {
     "data": {
      "text/plain": [
       "2"
      ]
     },
     "execution_count": 60,
     "metadata": {},
     "output_type": "execute_result"
    }
   ],
   "source": [
    "function(81)"
   ]
  },
  {
   "cell_type": "code",
   "execution_count": null,
   "id": "413461c8-5130-45a1-a67e-d0b137eba591",
   "metadata": {},
   "outputs": [],
   "source": []
  },
  {
   "cell_type": "markdown",
   "id": "d4259019-1cef-48cf-944b-5edb042f1c8c",
   "metadata": {},
   "source": [
    "# Using `while` Loop in Python\n",
    "\n",
    "A `while` loop in Python is used to repeatedly execute a block of code as long as a specified condition is true. It's particularly useful in scenarios where the number of iterations is not known beforehand and the loop needs to run until a certain condition is met.\n",
    "\n",
    "## Why Use a While Loop?\n",
    "1. **Indeterminate Looping**: When you don't know how many times you need to loop beforehand.\n",
    "2. **Condition-based Execution**: When you want to continue looping based on a condition that may change during the loop's execution.\n",
    "3. **Interactive Programs**: For scenarios like user input where you need to keep asking for input until a valid response is provided.\n",
    "4. **Resource Management**: Useful in managing resources, such as reading from a file until the end is reached.\n",
    "\n",
    "## Examples\n",
    "\n",
    "### 1. Basic Countdown Loop\n",
    "\n",
    "```python\n",
    "count = 10\n",
    "while count > 0:\n",
    "    print(count)\n",
    "    count -= 1\n",
    "print(\"Blast off!\")\n"
   ]
  },
  {
   "cell_type": "code",
   "execution_count": null,
   "id": "07f723f5-233a-44b7-9f5f-2c00a32bd516",
   "metadata": {},
   "outputs": [],
   "source": []
  },
  {
   "cell_type": "markdown",
   "id": "78387410-2ccd-44b6-a20c-f54cc35d1300",
   "metadata": {},
   "source": [
    "# Q.5"
   ]
  },
  {
   "cell_type": "code",
   "execution_count": 4,
   "id": "1eb83162-4d64-45bc-9447-0bf5a57515be",
   "metadata": {},
   "outputs": [
    {
     "name": "stdout",
     "output_type": "stream",
     "text": [
      "        * \n",
      "      * * * \n",
      "    * * * * * \n",
      "  * * * * * * * \n",
      "* * * * * * * * * \n",
      "  * * * * * * * \n",
      "    * * * * * \n",
      "      * * * \n",
      "        * \n"
     ]
    }
   ],
   "source": [
    "height=5\n",
    "start_row=1\n",
    "\n",
    "while start_row <= height:\n",
    "    \n",
    "    space_count=height-start_row\n",
    "    while space_count > 0:\n",
    "        print( \" \", end= \" \")\n",
    "    \n",
    "        space_count -=1\n",
    "    \n",
    "    star_count=0\n",
    "    while star_count <(2*start_row-1):\n",
    "        print(\"*\",end=\" \")\n",
    "            \n",
    "        star_count+=1\n",
    "\n",
    "        \n",
    "    print()\n",
    "    \n",
    "    start_row+=1\n",
    "\n",
    "    \n",
    "last_row=height-1\n",
    "while last_row >= 1:\n",
    "    \n",
    "    space_count=height-last_row\n",
    "    while space_count>0:\n",
    "        print(\" \",end=\" \")\n",
    "        space_count-=1\n",
    "        \n",
    "        \n",
    "    star_count=0\n",
    "    while star_count-(2*last_row-1):\n",
    "        print(\"*\",end=\" \")\n",
    "        star_count +=1\n",
    "        \n",
    "    print()\n",
    "    last_row-=1"
   ]
  },
  {
   "cell_type": "code",
   "execution_count": null,
   "id": "c4573126-95bd-4cfe-9292-f014aa91b1bf",
   "metadata": {},
   "outputs": [],
   "source": []
  },
  {
   "cell_type": "markdown",
   "id": "a4abe625-da96-4c26-8741-7fa5f9b1aad7",
   "metadata": {},
   "source": [
    "# Q.6"
   ]
  },
  {
   "cell_type": "code",
   "execution_count": 6,
   "id": "0b0dd863-ee34-4f99-857e-d7d57d5cc5ba",
   "metadata": {},
   "outputs": [
    {
     "name": "stdout",
     "output_type": "stream",
     "text": [
      "10\n",
      "9\n",
      "8\n",
      "7\n",
      "6\n",
      "5\n",
      "4\n",
      "3\n",
      "2\n",
      "1\n"
     ]
    }
   ],
   "source": [
    "count=10\n",
    "while count > 0:\n",
    "    print(count)\n",
    "    count-=1"
   ]
  },
  {
   "cell_type": "code",
   "execution_count": null,
   "id": "091f0f36-5a4b-43a3-a325-13f6fbd34cd1",
   "metadata": {},
   "outputs": [],
   "source": []
  }
 ],
 "metadata": {
  "kernelspec": {
   "display_name": "Python 3 (ipykernel)",
   "language": "python",
   "name": "python3"
  },
  "language_info": {
   "codemirror_mode": {
    "name": "ipython",
    "version": 3
   },
   "file_extension": ".py",
   "mimetype": "text/x-python",
   "name": "python",
   "nbconvert_exporter": "python",
   "pygments_lexer": "ipython3",
   "version": "3.10.8"
  }
 },
 "nbformat": 4,
 "nbformat_minor": 5
}
